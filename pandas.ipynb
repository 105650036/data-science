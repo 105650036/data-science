{
 "cells": [
  {
   "cell_type": "code",
   "execution_count": 1,
   "metadata": {},
   "outputs": [
    {
     "data": {
      "text/plain": [
       "O    30\n",
       "A    40\n",
       "G    50\n",
       "dtype: int64"
      ]
     },
     "execution_count": 1,
     "metadata": {},
     "output_type": "execute_result"
    }
   ],
   "source": [
    "import pandas as pd\n",
    "import numpy as np\n",
    "s1=pd.Series([30,40,50],index=[\"O\",\"A\",\"G\"])\n",
    "s1"
   ]
  },
  {
   "cell_type": "code",
   "execution_count": 4,
   "metadata": {},
   "outputs": [
    {
     "name": "stdout",
     "output_type": "stream",
     "text": [
      "<class 'pandas.core.frame.DataFrame'>\n",
      "      beijing  hongkong  singapore\n",
      "2020       20        25         30\n",
      "2021       21        26         29\n",
      "2022       19        27         31\n"
     ]
    }
   ],
   "source": [
    "import pandas as pd\n",
    "years = range(2020, 2023)\n",
    "beijing = pd.Series([20, 21, 19], index = years)\n",
    "hongkong = pd.Series([25, 26, 27], index = years)\n",
    "singapore = pd.Series([30, 29, 31], index = years)\n",
    "citydf = pd.concat([beijing, hongkong, singapore],axis=1)  # axis=1 才會成立dataframe物件 建立 column 0的話index\n",
    "cites=[\"beijing\", \"hongkong\", \"singapore\"]\n",
    "citydf.columns=cites\n",
    "print(type(citydf))\n",
    "print(citydf)\n"
   ]
  },
  {
   "cell_type": "code",
   "execution_count": 6,
   "metadata": {},
   "outputs": [
    {
     "name": "stdout",
     "output_type": "stream",
     "text": [
      "          country       town  population\n",
      "first       China    Beijing        2000\n",
      "second      Japan      Tokyo        1600\n",
      "third   Singapore  Singapore         600\n"
     ]
    }
   ],
   "source": [
    "import pandas as pd\n",
    "cities = {'country':['China', 'Japan', 'Singapore'],\n",
    "          'town':['Beijing','Tokyo','Singapore'],\n",
    "          'population':[2000, 1600, 600]}\n",
    "citydf = pd.DataFrame(cities,index=[\"first\",\"second\",\"third\"])\n",
    "print(citydf)"
   ]
  },
  {
   "cell_type": "code",
   "execution_count": 7,
   "metadata": {},
   "outputs": [
    {
     "name": "stdout",
     "output_type": "stream",
     "text": [
      "                town  population\n",
      "China        Beijing        2000\n",
      "Japan          Tokyo        1600\n",
      "Singapore  Singapore         600\n"
     ]
    }
   ],
   "source": [
    "import pandas as pd\n",
    "cities = {'country':['China', 'Japan', 'Singapore'],\n",
    "          'town':['Beijing','Tokyo','Singapore'],\n",
    "          'population':[2000, 1600, 600]}\n",
    "citydf = pd.DataFrame(cities, columns=[\"town\",\"population\"],\n",
    "                      index=cities[\"country\"])\n",
    "print(citydf)"
   ]
  },
  {
   "cell_type": "code",
   "execution_count": 8,
   "metadata": {},
   "outputs": [
    {
     "name": "stdout",
     "output_type": "stream",
     "text": [
      "                Town  Population\n",
      "China        Beijing        2000\n",
      "China       Shanghai        2300\n",
      "Thailand     Bangkok         900\n",
      "Japan          Tokyo        1600\n",
      "Singapore  Singapore         600\n"
     ]
    }
   ],
   "source": [
    "import pandas as pd\n",
    "cities = {'Country':['China','China','Thailand','Japan','Singapore'],\n",
    "          'Town':['Beijing','Shanghai','Bangkok', 'Tokyo','Singapore'],\n",
    "          'Population':[2000, 2300, 900, 1600, 600]}\n",
    "df = pd.DataFrame(cities, columns=[\"Town\",\"Population\"],\n",
    "                  index=cities[\"Country\"])\n",
    "print(df)"
   ]
  },
  {
   "cell_type": "code",
   "execution_count": 9,
   "metadata": {},
   "outputs": [
    {
     "data": {
      "text/plain": [
       "'Tokyo'"
      ]
     },
     "execution_count": 9,
     "metadata": {},
     "output_type": "execute_result"
    }
   ],
   "source": [
    "df.at['Japan','Town']"
   ]
  },
  {
   "cell_type": "code",
   "execution_count": 10,
   "metadata": {},
   "outputs": [
    {
     "data": {
      "text/plain": [
       "'Bangkok'"
      ]
     },
     "execution_count": 10,
     "metadata": {},
     "output_type": "execute_result"
    }
   ],
   "source": [
    "df.iat[2,0]"
   ]
  },
  {
   "cell_type": "code",
   "execution_count": 11,
   "metadata": {},
   "outputs": [
    {
     "data": {
      "text/html": [
       "<div>\n",
       "<style scoped>\n",
       "    .dataframe tbody tr th:only-of-type {\n",
       "        vertical-align: middle;\n",
       "    }\n",
       "\n",
       "    .dataframe tbody tr th {\n",
       "        vertical-align: top;\n",
       "    }\n",
       "\n",
       "    .dataframe thead th {\n",
       "        text-align: right;\n",
       "    }\n",
       "</style>\n",
       "<table border=\"1\" class=\"dataframe\">\n",
       "  <thead>\n",
       "    <tr style=\"text-align: right;\">\n",
       "      <th></th>\n",
       "      <th>Town</th>\n",
       "      <th>Population</th>\n",
       "    </tr>\n",
       "  </thead>\n",
       "  <tbody>\n",
       "    <tr>\n",
       "      <td>Japan</td>\n",
       "      <td>Tokyo</td>\n",
       "      <td>1600</td>\n",
       "    </tr>\n",
       "    <tr>\n",
       "      <td>Singapore</td>\n",
       "      <td>Singapore</td>\n",
       "      <td>600</td>\n",
       "    </tr>\n",
       "  </tbody>\n",
       "</table>\n",
       "</div>"
      ],
      "text/plain": [
       "                Town  Population\n",
       "Japan          Tokyo        1600\n",
       "Singapore  Singapore         600"
      ]
     },
     "execution_count": 11,
     "metadata": {},
     "output_type": "execute_result"
    }
   ],
   "source": [
    "df.loc[['Japan','Singapore']]"
   ]
  },
  {
   "cell_type": "code",
   "execution_count": 12,
   "metadata": {},
   "outputs": [
    {
     "data": {
      "text/plain": [
       "Town          Beijing\n",
       "Population       2000\n",
       "Name: China, dtype: object"
      ]
     },
     "execution_count": 12,
     "metadata": {},
     "output_type": "execute_result"
    }
   ],
   "source": [
    "df.iloc[0]"
   ]
  },
  {
   "cell_type": "code",
   "execution_count": 19,
   "metadata": {},
   "outputs": [
    {
     "name": "stdout",
     "output_type": "stream",
     "text": [
      "        Frank  Peter  John\n",
      "first      71     97    92\n",
      "second     66     99    68\n",
      "final      97     96    60\n"
     ]
    }
   ],
   "source": [
    "import pandas as pd\n",
    "import numpy as np\n",
    "name = ['Frank', 'Peter', 'John']\n",
    "score = ['first', 'second', 'final']\n",
    "df = pd.DataFrame(np.random.randint(60,100,size=(3,3)),\n",
    "                  columns=name,\n",
    "                  index=score)\n",
    "print(df)\n",
    "###print(df['first'].max(axis=1),df['second'].max(axis=1),df['final'].max(axis=1))"
   ]
  },
  {
   "cell_type": "code",
   "execution_count": 29,
   "metadata": {},
   "outputs": [
    {
     "name": "stdout",
     "output_type": "stream",
     "text": [
      "   Chinese  English  Math  Natural  Society\n",
      "1       14       12    13       10       13\n",
      "2       13       14    11       10       15\n",
      "3       15        9    12        8       15\n",
      "4       15       10    13       10       15\n",
      "5       12       11    14        9       14\n"
     ]
    }
   ],
   "source": [
    "import pandas as pd\n",
    "\n",
    "course = ['Chinese', 'English', 'Math', 'Natural', 'Society']\n",
    "chinese = [14, 12, 13, 10, 13]\n",
    "eng = [13, 14, 11, 10, 15]\n",
    "math = [15, 9, 12, 8, 15]\n",
    "nature = [15, 10, 13, 10, 15]\n",
    "social = [12, 11, 14, 9, 14]\n",
    "\n",
    "df = pd.DataFrame([chinese, eng, math, nature, social],\n",
    "                  columns = course,\n",
    "                  index = range(1,6))\n",
    "print(df)\n",
    "\n"
   ]
  },
  {
   "cell_type": "code",
   "execution_count": 31,
   "metadata": {},
   "outputs": [
    {
     "data": {
      "text/html": [
       "<div>\n",
       "<style scoped>\n",
       "    .dataframe tbody tr th:only-of-type {\n",
       "        vertical-align: middle;\n",
       "    }\n",
       "\n",
       "    .dataframe tbody tr th {\n",
       "        vertical-align: top;\n",
       "    }\n",
       "\n",
       "    .dataframe thead th {\n",
       "        text-align: right;\n",
       "    }\n",
       "</style>\n",
       "<table border=\"1\" class=\"dataframe\">\n",
       "  <thead>\n",
       "    <tr style=\"text-align: right;\">\n",
       "      <th></th>\n",
       "      <th>Chinese</th>\n",
       "      <th>English</th>\n",
       "      <th>Math</th>\n",
       "      <th>Natural</th>\n",
       "      <th>Society</th>\n",
       "      <th>Total</th>\n",
       "      <th>Average</th>\n",
       "    </tr>\n",
       "  </thead>\n",
       "  <tbody>\n",
       "    <tr>\n",
       "      <td>1</td>\n",
       "      <td>14.0</td>\n",
       "      <td>12.0</td>\n",
       "      <td>13.0</td>\n",
       "      <td>10.0</td>\n",
       "      <td>13.0</td>\n",
       "      <td>124.0</td>\n",
       "      <td>NaN</td>\n",
       "    </tr>\n",
       "    <tr>\n",
       "      <td>2</td>\n",
       "      <td>13.0</td>\n",
       "      <td>14.0</td>\n",
       "      <td>11.0</td>\n",
       "      <td>10.0</td>\n",
       "      <td>15.0</td>\n",
       "      <td>126.0</td>\n",
       "      <td>NaN</td>\n",
       "    </tr>\n",
       "    <tr>\n",
       "      <td>3</td>\n",
       "      <td>15.0</td>\n",
       "      <td>9.0</td>\n",
       "      <td>12.0</td>\n",
       "      <td>8.0</td>\n",
       "      <td>15.0</td>\n",
       "      <td>118.0</td>\n",
       "      <td>NaN</td>\n",
       "    </tr>\n",
       "    <tr>\n",
       "      <td>4</td>\n",
       "      <td>15.0</td>\n",
       "      <td>10.0</td>\n",
       "      <td>13.0</td>\n",
       "      <td>10.0</td>\n",
       "      <td>15.0</td>\n",
       "      <td>126.0</td>\n",
       "      <td>NaN</td>\n",
       "    </tr>\n",
       "    <tr>\n",
       "      <td>5</td>\n",
       "      <td>12.0</td>\n",
       "      <td>11.0</td>\n",
       "      <td>14.0</td>\n",
       "      <td>9.0</td>\n",
       "      <td>14.0</td>\n",
       "      <td>120.0</td>\n",
       "      <td>NaN</td>\n",
       "    </tr>\n",
       "    <tr>\n",
       "      <td>Average</td>\n",
       "      <td>13.8</td>\n",
       "      <td>11.2</td>\n",
       "      <td>12.6</td>\n",
       "      <td>9.4</td>\n",
       "      <td>14.4</td>\n",
       "      <td>122.8</td>\n",
       "      <td>NaN</td>\n",
       "    </tr>\n",
       "  </tbody>\n",
       "</table>\n",
       "</div>"
      ],
      "text/plain": [
       "         Chinese  English  Math  Natural  Society  Total  Average\n",
       "1           14.0     12.0  13.0     10.0     13.0  124.0      NaN\n",
       "2           13.0     14.0  11.0     10.0     15.0  126.0      NaN\n",
       "3           15.0      9.0  12.0      8.0     15.0  118.0      NaN\n",
       "4           15.0     10.0  13.0     10.0     15.0  126.0      NaN\n",
       "5           12.0     11.0  14.0      9.0     14.0  120.0      NaN\n",
       "Average     13.8     11.2  12.6      9.4     14.4  122.8      NaN"
      ]
     },
     "execution_count": 31,
     "metadata": {},
     "output_type": "execute_result"
    }
   ],
   "source": [
    "total=[df.iloc[i].sum() for i in range(0,5)]\n",
    "df['Total']=total\n",
    "ave=df.mean()\n",
    "df.loc['Average']=ave\n",
    "df"
   ]
  },
  {
   "cell_type": "code",
   "execution_count": 34,
   "metadata": {},
   "outputs": [
    {
     "data": {
      "text/html": [
       "<div>\n",
       "<style scoped>\n",
       "    .dataframe tbody tr th:only-of-type {\n",
       "        vertical-align: middle;\n",
       "    }\n",
       "\n",
       "    .dataframe tbody tr th {\n",
       "        vertical-align: top;\n",
       "    }\n",
       "\n",
       "    .dataframe thead th {\n",
       "        text-align: right;\n",
       "    }\n",
       "</style>\n",
       "<table border=\"1\" class=\"dataframe\">\n",
       "  <thead>\n",
       "    <tr style=\"text-align: right;\">\n",
       "      <th></th>\n",
       "      <th>Chinese</th>\n",
       "      <th>English</th>\n",
       "      <th>Math</th>\n",
       "      <th>Natural</th>\n",
       "      <th>Society</th>\n",
       "      <th>Total</th>\n",
       "    </tr>\n",
       "  </thead>\n",
       "  <tbody>\n",
       "    <tr>\n",
       "      <td>1</td>\n",
       "      <td>14.0</td>\n",
       "      <td>12.0</td>\n",
       "      <td>13.0</td>\n",
       "      <td>10.0</td>\n",
       "      <td>13.0</td>\n",
       "      <td>124.0</td>\n",
       "    </tr>\n",
       "    <tr>\n",
       "      <td>2</td>\n",
       "      <td>13.0</td>\n",
       "      <td>14.0</td>\n",
       "      <td>11.0</td>\n",
       "      <td>10.0</td>\n",
       "      <td>15.0</td>\n",
       "      <td>126.0</td>\n",
       "    </tr>\n",
       "    <tr>\n",
       "      <td>3</td>\n",
       "      <td>15.0</td>\n",
       "      <td>9.0</td>\n",
       "      <td>12.0</td>\n",
       "      <td>8.0</td>\n",
       "      <td>15.0</td>\n",
       "      <td>118.0</td>\n",
       "    </tr>\n",
       "    <tr>\n",
       "      <td>4</td>\n",
       "      <td>15.0</td>\n",
       "      <td>10.0</td>\n",
       "      <td>13.0</td>\n",
       "      <td>10.0</td>\n",
       "      <td>15.0</td>\n",
       "      <td>126.0</td>\n",
       "    </tr>\n",
       "    <tr>\n",
       "      <td>5</td>\n",
       "      <td>12.0</td>\n",
       "      <td>11.0</td>\n",
       "      <td>14.0</td>\n",
       "      <td>9.0</td>\n",
       "      <td>14.0</td>\n",
       "      <td>120.0</td>\n",
       "    </tr>\n",
       "    <tr>\n",
       "      <td>Average</td>\n",
       "      <td>13.8</td>\n",
       "      <td>11.2</td>\n",
       "      <td>12.6</td>\n",
       "      <td>9.4</td>\n",
       "      <td>14.4</td>\n",
       "      <td>122.8</td>\n",
       "    </tr>\n",
       "  </tbody>\n",
       "</table>\n",
       "</div>"
      ],
      "text/plain": [
       "         Chinese  English  Math  Natural  Society  Total\n",
       "1           14.0     12.0  13.0     10.0     13.0  124.0\n",
       "2           13.0     14.0  11.0     10.0     15.0  126.0\n",
       "3           15.0      9.0  12.0      8.0     15.0  118.0\n",
       "4           15.0     10.0  13.0     10.0     15.0  126.0\n",
       "5           12.0     11.0  14.0      9.0     14.0  120.0\n",
       "Average     13.8     11.2  12.6      9.4     14.4  122.8"
      ]
     },
     "execution_count": 34,
     "metadata": {},
     "output_type": "execute_result"
    }
   ],
   "source": [
    "df.drop('Average',axis=1)"
   ]
  },
  {
   "cell_type": "code",
   "execution_count": 2,
   "metadata": {},
   "outputs": [
    {
     "data": {
      "image/png": "[encoded data removed]",
      "text/plain": [
       "<Figure size 432x288 with 1 Axes>"
      ]
     },
     "metadata": {
      "needs_background": "light"
     },
     "output_type": "display_data"
    }
   ],
   "source": [
    "import pandas as pd\n",
    "import matplotlib.pyplot as plt\n",
    "\n",
    "cities = {'population':[1000, 850, 800, 1500, 600, 800],\n",
    "          'town':['New York','Chicago','Bangkok','Tokyo',\n",
    "                   'Singapore','HongKong']}\n",
    "tw = pd.DataFrame(cities, columns=['population'],index=cities['town'])\n",
    "          \n",
    "tw.plot(title='Population in the World')\n",
    "plt.xlabel('City')\n",
    "plt.ylabel(\"Population\")\n",
    "plt.show()"
   ]
  },
  {
   "cell_type": "code",
   "execution_count": 3,
   "metadata": {},
   "outputs": [
    {
     "data": {
      "image/png": "[encoded data removed]",
      "text/plain": [
       "<Figure size 432x288 with 1 Axes>"
      ]
     },
     "metadata": {
      "needs_background": "light"
     },
     "output_type": "display_data"
    }
   ],
   "source": [
    "import pandas as pd\n",
    "import matplotlib.pyplot as plt\n",
    "\n",
    "cities = {'population':[1000, 850, 800, 1500, 600, 800],\n",
    "          'town':['New York','Chicago','Bangkok','Tokyo',\n",
    "                   'Singapore','HongKong']}\n",
    "tw = pd.DataFrame(cities, columns=['population'],index=cities['town'])\n",
    "          \n",
    "tw.plot(title='Population in the World',kind='bar')\n",
    "plt.xlabel('City')\n",
    "plt.ylabel(\"Population\")\n",
    "plt.show()\n"
   ]
  },
  {
   "cell_type": "code",
   "execution_count": 4,
   "metadata": {},
   "outputs": [
    {
     "data": {
      "image/png": "[encoded data removed]",
      "text/plain": [
       "<Figure size 432x288 with 1 Axes>"
      ]
     },
     "metadata": {
      "needs_background": "light"
     },
     "output_type": "display_data"
    }
   ],
   "source": [
    "import pandas as pd\n",
    "import matplotlib.pyplot as plt\n",
    "\n",
    "cities = {'population':[1000, 850, 800, 1500, 600, 800],\n",
    "          'area':[400, 500, 850, 300, 200, 320],\n",
    "          'town':['New York','Chicago','Bangkok','Tokyo',\n",
    "                   'Singapore','HongKong']}\n",
    "tw = pd.DataFrame(cities, columns=['population','area'],index=cities['town'])\n",
    "          \n",
    "tw.plot(title='Population in the World')\n",
    "plt.xlabel('City')\n",
    "plt.show()"
   ]
  },
  {
   "cell_type": "code",
   "execution_count": 6,
   "metadata": {},
   "outputs": [
    {
     "data": {
      "image/png": "[encoded data removed]",
      "text/plain": [
       "<Figure size 432x288 with 2 Axes>"
      ]
     },
     "metadata": {
      "needs_background": "light"
     },
     "output_type": "display_data"
    }
   ],
   "source": [
    "import pandas as pd\n",
    "import matplotlib.pyplot as plt\n",
    "\n",
    "cities = {'population':[10000000,8500000,8000000,15000000,6000000,8000000],\n",
    "          'area':[400, 500, 850, 300, 200, 320],\n",
    "          'town':['New York','Chicago','Bangkok','Tokyo',\n",
    "                   'Singapore','HongKong']}\n",
    "tw = pd.DataFrame(cities, columns=['population','area'],index=cities['town'])\n",
    "\n",
    "fig, ax = plt.subplots()\n",
    "fig.suptitle(\"City Statistics\")\n",
    "ax.set_ylabel(\"Population\")\n",
    "ax.set_xlabel(\"City\")\n",
    "ax.ticklabel_format(style='plain')  #取消科學記號\n",
    "ax2 = ax.twinx()\n",
    "ax2.set_ylabel(\"Area\")\n",
    "tw['population'].plot(ax=ax,rot=90)     # 繪製人口數線\n",
    "tw['area'].plot(ax=ax2, style='g-')     # 繪製面積線\n",
    "ax.legend(loc=1)                        # 圖例位置在右上\n",
    "ax2.legend(loc=2)                       # 圖例位置在左上\n",
    "plt.show()\n"
   ]
  },
  {
   "cell_type": "code",
   "execution_count": 9,
   "metadata": {},
   "outputs": [
    {
     "data": {
      "image/png": "[encoded data removed]",
      "text/plain": [
       "<Figure size 432x288 with 1 Axes>"
      ]
     },
     "metadata": {},
     "output_type": "display_data"
    }
   ],
   "source": [
    "import pandas as pd\n",
    "import matplotlib.pyplot as plt\n",
    "\n",
    "fruits = ['Apples', 'Bananas', 'Grapes', 'Pears', 'Oranges']\n",
    "s = pd.Series([2300, 5000, 1200, 2500, 2900], index=fruits,\n",
    "              name='Fruits Shop')\n",
    "explode = [0, 0.4, 0.3, 0, 0]\n",
    "s.plot.pie(explode = explode, autopct='%1.2f%%')\n",
    "plt.show()\n"
   ]
  },
  {
   "cell_type": "code",
   "execution_count": 11,
   "metadata": {},
   "outputs": [
    {
     "name": "stdout",
     "output_type": "stream",
     "text": [
      "<class 'pandas.core.series.Series'>\n",
      "2020-08-07    34\n",
      "2020-08-08    44\n",
      "2020-08-09    65\n",
      "2020-08-10    53\n",
      "2020-08-11    39\n",
      "dtype: int64\n"
     ]
    }
   ],
   "source": [
    "import pandas as pd\n",
    "from datetime import datetime, timedelta\n",
    "\n",
    "ndays = 5\n",
    "start = datetime(2020, 8, 7)   \n",
    "dates = [start + timedelta(days=x) for x in range(0, ndays)]\n",
    "data = [34, 44, 65, 53, 39]\n",
    "ts = pd.Series(data, index=dates)\n",
    "print(type(ts))\n",
    "print(ts)"
   ]
  },
  {
   "cell_type": "code",
   "execution_count": 12,
   "metadata": {},
   "outputs": [
    {
     "name": "stdout",
     "output_type": "stream",
     "text": [
      "資料集長度 :  150\n",
      "     sepal_len  sepal_wd  petal_len  petal_wd         species\n",
      "0          5.1       3.5        1.4       0.2     Iris-setosa\n",
      "1          4.9       3.0        1.4       0.2     Iris-setosa\n",
      "2          4.7       3.2        1.3       0.2     Iris-setosa\n",
      "3          4.6       3.1        1.5       0.2     Iris-setosa\n",
      "4          5.0       3.6        1.4       0.2     Iris-setosa\n",
      "..         ...       ...        ...       ...             ...\n",
      "145        6.7       3.0        5.2       2.3  Iris-virginica\n",
      "146        6.3       2.5        5.0       1.9  Iris-virginica\n",
      "147        6.5       3.0        5.2       2.0  Iris-virginica\n",
      "148        6.2       3.4        5.4       2.3  Iris-virginica\n",
      "149        5.9       3.0        5.1       1.8  Iris-virginica\n",
      "\n",
      "[150 rows x 5 columns]\n"
     ]
    }
   ],
   "source": [
    "import pandas as pd\n",
    "\n",
    "colName = ['sepal_len','sepal_wd','petal_len','petal_wd','species']\n",
    "iris = pd.read_csv('iris.csv', names = colName)\n",
    "print('資料集長度 : ', len(iris))\n",
    "print(iris)"
   ]
  },
  {
   "cell_type": "code",
   "execution_count": 14,
   "metadata": {},
   "outputs": [
    {
     "data": {
      "text/html": [
       "<div>\n",
       "<style scoped>\n",
       "    .dataframe tbody tr th:only-of-type {\n",
       "        vertical-align: middle;\n",
       "    }\n",
       "\n",
       "    .dataframe tbody tr th {\n",
       "        vertical-align: top;\n",
       "    }\n",
       "\n",
       "    .dataframe thead th {\n",
       "        text-align: right;\n",
       "    }\n",
       "</style>\n",
       "<table border=\"1\" class=\"dataframe\">\n",
       "  <thead>\n",
       "    <tr style=\"text-align: right;\">\n",
       "      <th></th>\n",
       "      <th>sepal_len</th>\n",
       "      <th>sepal_wd</th>\n",
       "      <th>petal_len</th>\n",
       "      <th>petal_wd</th>\n",
       "    </tr>\n",
       "  </thead>\n",
       "  <tbody>\n",
       "    <tr>\n",
       "      <td>count</td>\n",
       "      <td>150.000000</td>\n",
       "      <td>150.000000</td>\n",
       "      <td>150.000000</td>\n",
       "      <td>150.000000</td>\n",
       "    </tr>\n",
       "    <tr>\n",
       "      <td>mean</td>\n",
       "      <td>5.843333</td>\n",
       "      <td>3.054000</td>\n",
       "      <td>3.758667</td>\n",
       "      <td>1.198667</td>\n",
       "    </tr>\n",
       "    <tr>\n",
       "      <td>std</td>\n",
       "      <td>0.828066</td>\n",
       "      <td>0.433594</td>\n",
       "      <td>1.764420</td>\n",
       "      <td>0.763161</td>\n",
       "    </tr>\n",
       "    <tr>\n",
       "      <td>min</td>\n",
       "      <td>4.300000</td>\n",
       "      <td>2.000000</td>\n",
       "      <td>1.000000</td>\n",
       "      <td>0.100000</td>\n",
       "    </tr>\n",
       "    <tr>\n",
       "      <td>25%</td>\n",
       "      <td>5.100000</td>\n",
       "      <td>2.800000</td>\n",
       "      <td>1.600000</td>\n",
       "      <td>0.300000</td>\n",
       "    </tr>\n",
       "    <tr>\n",
       "      <td>50%</td>\n",
       "      <td>5.800000</td>\n",
       "      <td>3.000000</td>\n",
       "      <td>4.350000</td>\n",
       "      <td>1.300000</td>\n",
       "    </tr>\n",
       "    <tr>\n",
       "      <td>75%</td>\n",
       "      <td>6.400000</td>\n",
       "      <td>3.300000</td>\n",
       "      <td>5.100000</td>\n",
       "      <td>1.800000</td>\n",
       "    </tr>\n",
       "    <tr>\n",
       "      <td>max</td>\n",
       "      <td>7.900000</td>\n",
       "      <td>4.400000</td>\n",
       "      <td>6.900000</td>\n",
       "      <td>2.500000</td>\n",
       "    </tr>\n",
       "  </tbody>\n",
       "</table>\n",
       "</div>"
      ],
      "text/plain": [
       "        sepal_len    sepal_wd   petal_len    petal_wd\n",
       "count  150.000000  150.000000  150.000000  150.000000\n",
       "mean     5.843333    3.054000    3.758667    1.198667\n",
       "std      0.828066    0.433594    1.764420    0.763161\n",
       "min      4.300000    2.000000    1.000000    0.100000\n",
       "25%      5.100000    2.800000    1.600000    0.300000\n",
       "50%      5.800000    3.000000    4.350000    1.300000\n",
       "75%      6.400000    3.300000    5.100000    1.800000\n",
       "max      7.900000    4.400000    6.900000    2.500000"
      ]
     },
     "execution_count": 14,
     "metadata": {},
     "output_type": "execute_result"
    }
   ],
   "source": [
    "iris.describe()"
   ]
  },
  {
   "cell_type": "code",
   "execution_count": 15,
   "metadata": {},
   "outputs": [
    {
     "data": {
      "image/png": "[encoded data removed]",
      "text/plain": [
       "<Figure size 432x288 with 1 Axes>"
      ]
     },
     "metadata": {
      "needs_background": "light"
     },
     "output_type": "display_data"
    }
   ],
   "source": [
    "import pandas as pd\n",
    "import matplotlib.pyplot as plt\n",
    "\n",
    "colName = ['sepal_len','sepal_wd','petal_len','petal_wd','species']\n",
    "iris = pd.read_csv('iris.csv', names = colName)\n",
    "\n",
    "iris.plot(x='sepal_len',y='sepal_wd',kind='scatter')\n",
    "plt.xlabel('Sepal Length')\n",
    "plt.ylabel('Sepal Width')\n",
    "plt.title('Iris Sepal length and width anslysis')\n",
    "plt.show()\n"
   ]
  },
  {
   "cell_type": "code",
   "execution_count": 16,
   "metadata": {},
   "outputs": [
    {
     "data": {
      "image/png": "[encoded data removed]",
      "text/plain": [
       "<Figure size 432x288 with 1 Axes>"
      ]
     },
     "metadata": {
      "needs_background": "light"
     },
     "output_type": "display_data"
    }
   ],
   "source": [
    "import pandas as pd\n",
    "import matplotlib.pyplot as plt\n",
    "\n",
    "colName = ['sepal_len','sepal_wd','petal_len','petal_wd','species']\n",
    "iris = pd.read_csv('iris.csv', names = colName)\n",
    "\n",
    "# 擷取不同品種的鳶尾花\n",
    "iris_setosa = iris[iris['species'] == 'Iris-setosa']\n",
    "iris_versicolor = iris[iris['species'] == 'Iris-versicolor']\n",
    "iris_virginica = iris[iris['species'] == 'Iris-virginica']\n",
    "# 繪製散點圖\n",
    "plt.plot(iris_setosa['sepal_len'],iris_setosa['sepal_wd'],\n",
    "         '*',color='g',label='setosa')\n",
    "plt.plot(iris_versicolor['sepal_len'],iris_versicolor['sepal_wd'],\n",
    "         'x',color='b',label='versicolor')\n",
    "plt.plot(iris_virginica['sepal_len'],iris_virginica['sepal_wd'],\n",
    "         '.',color='r',label='virginica')\n",
    "# 標註軸和標題\n",
    "plt.xlabel('Sepal Length')\n",
    "plt.ylabel('Sepal Width')\n",
    "plt.title('Iris Sepal length and width anslysis')\n",
    "plt.legend()\n",
    "plt.show()"
   ]
  },
  {
   "cell_type": "code",
   "execution_count": 17,
   "metadata": {},
   "outputs": [
    {
     "data": {
      "image/png": "[encoded data removed]",
      "text/plain": [
       "<Figure size 432x288 with 1 Axes>"
      ]
     },
     "metadata": {
      "needs_background": "light"
     },
     "output_type": "display_data"
    }
   ],
   "source": [
    "import pandas as pd\n",
    "import matplotlib.pyplot as plt\n",
    "\n",
    "colName = ['sepal_len','sepal_wd','petal_len','petal_wd','species']\n",
    "iris = pd.read_csv('iris.csv', names = colName)\n",
    "\n",
    "# 鳶尾花分組統計均值\n",
    "iris_mean = iris.groupby('species', as_index=False).mean()\n",
    "# 繪製直條圖\n",
    "iris_mean.plot(kind='bar')\n",
    "# 刻度處理\n",
    "plt.xticks(iris_mean.index,iris_mean['species'], rotation=0)\n",
    "\n",
    "plt.show()"
   ]
  },
  {
   "cell_type": "code",
   "execution_count": 18,
   "metadata": {},
   "outputs": [
    {
     "data": {
      "image/png": "[encoded data removed]",
      "text/plain": [
       "<Figure size 432x288 with 1 Axes>"
      ]
     },
     "metadata": {
      "needs_background": "light"
     },
     "output_type": "display_data"
    }
   ],
   "source": [
    "import pandas as pd\n",
    "import matplotlib.pyplot as plt\n",
    "\n",
    "colName = ['sepal_len','sepal_wd','petal_len','petal_wd','species']\n",
    "iris = pd.read_csv('iris.csv', names = colName)\n",
    "iris['species'] = iris['species'].apply(lambda x: x.replace(\"Iris-\",\"\"))\n",
    "# 鳶尾花分組統計均值\n",
    "iris_mean = iris.groupby('species', as_index=False).mean()\n",
    "# 繪製直條圖\n",
    "iris_mean.plot(kind='bar')\n",
    "# 刻度處理\n",
    "plt.xticks(iris_mean.index,iris_mean['species'], rotation=0)\n",
    "\n",
    "plt.show()"
   ]
  },
  {
   "cell_type": "code",
   "execution_count": 19,
   "metadata": {},
   "outputs": [
    {
     "data": {
      "image/png": "[encoded data removed]",
      "text/plain": [
       "<Figure size 432x288 with 1 Axes>"
      ]
     },
     "metadata": {
      "needs_background": "light"
     },
     "output_type": "display_data"
    }
   ],
   "source": [
    "import pandas as pd\n",
    "import matplotlib.pyplot as plt\n",
    "\n",
    "colName = ['sepal_len','sepal_wd','petal_len','petal_wd','species']\n",
    "iris = pd.read_csv('iris.csv', names = colName)\n",
    "iris['species'] = iris['species'].apply(lambda x: x.replace(\"Iris-\",\"\"))\n",
    "# 鳶尾花分組統計均值\n",
    "iris_mean = iris.groupby('species', as_index=False).mean()\n",
    "# 繪製堆疊橫條圖\n",
    "iris_mean.plot(kind='barh',stacked=True)\n",
    "# 刻度處理\n",
    "plt.yticks(iris_mean.index,iris_mean['species'], rotation=0)\n",
    "\n",
    "plt.show()"
   ]
  },
  {
   "cell_type": "code",
   "execution_count": 1,
   "metadata": {},
   "outputs": [
    {
     "name": "stdout",
     "output_type": "stream",
     "text": [
      "元素 :  0\n",
      "                                                   0\n",
      "0  google_ad_client = \"ca-pub-9803646600609510\"; ...\n",
      "\n",
      "元素 :  1\n",
      "                                                   0\n",
      "0  google_ad_client = \"ca-pub-9803646600609510\"; ...\n",
      "1  首頁 市場動態 歷史股價 基金淨值 基金分類 經濟數據總覽 美元定存  技術指標 期貨報告 ...\n",
      "\n",
      "元素 :  2\n",
      "    0                                                  1\n",
      "0 NaN  google_ad_client = \"ca-pub-9803646600609510\"; ...\n",
      "\n",
      "元素 :  3\n",
      "                                                   0     1\n",
      "0  首頁 市場動態 歷史股價 基金淨值 基金分類 經濟數據總覽 美元定存  技術指標 期貨報告 ...  简体中文\n",
      "\n",
      "元素 :  4\n",
      "                                                   0  \\\n",
      "0  市場動態 全球股市排行榜 相對低檔股市指數 相對高檔股市指數 亞洲股市指數 歐洲股市、非洲指...   \n",
      "\n",
      "                                                   1  \n",
      "0  全球貨幣匯率 刷新時間 2020/8/8 12:05:58  全球匯率 (Currency ...  \n",
      "\n",
      "元素 :  5\n",
      "                                                   0\n",
      "0  市場動態 全球股市排行榜 相對低檔股市指數 相對高檔股市指數 亞洲股市指數 歐洲股市、非洲指...\n",
      "\n",
      "元素 :  6\n",
      "                               0   1\n",
      "0  全球貨幣匯率 刷新時間 2020/8/8 12:05:58 NaN\n",
      "\n",
      "元素 :  7\n",
      "                           0                         1  \\\n",
      "0   全球匯率 (Currency Exchange)  全球匯率 (Currency Exchange)   \n",
      "1                         貨幣                        匯率   \n",
      "2                      歐元/美元                    1.1786   \n",
      "3                      英鎊/美元                    1.3049   \n",
      "4                    美元/瑞士法郎                    0.9124   \n",
      "5                    美元/瑞典克朗                    8.7461   \n",
      "6                     美元/俄盧布                   73.7170   \n",
      "7                    美元/匈牙利幣                    293.52   \n",
      "8                    美元/土耳其幣                    7.2911   \n",
      "9                     美元/南非幣                   17.6313   \n",
      "10                   美元/以色列幣                    3.4091   \n",
      "11                    美元/摩洛哥                    9.2670   \n",
      "12                     澳幣/美元                    0.7157   \n",
      "13                     紐幣/美元                    0.6605   \n",
      "14                     美元/日圓                    105.91   \n",
      "15                    美元/人民幣                    6.9670   \n",
      "16                     美元/港幣                    7.7502   \n",
      "17                     美元/台幣                    29.431   \n",
      "18                     美元/韓圜                   1188.68   \n",
      "19                     美元/泰銖                    31.230   \n",
      "20                     美元/新元                    1.3724   \n",
      "21                    美元/菲披索                    49.070   \n",
      "22                    美元/馬來幣                    4.1850   \n",
      "23                    美元/印尼盾                   14580.0   \n",
      "24                   美元/印度盧比                    75.012   \n",
      "25                     美元/加幣                    1.3383   \n",
      "26                    美元/巴西幣                    5.4378   \n",
      "27                    美元/墨披索                   22.3850   \n",
      "28                    美元/阿根廷                   72.7600   \n",
      "29                     美元/智利                    787.45   \n",
      "\n",
      "                           2                         3  \\\n",
      "0   全球匯率 (Currency Exchange)  全球匯率 (Currency Exchange)   \n",
      "1                         漲跌                        比例   \n",
      "2                    -0.0087                    -0.73%   \n",
      "3                    -0.0095                    -0.72%   \n",
      "4                     0.0029                     0.32%   \n",
      "5                     0.0631                     0.73%   \n",
      "6                     0.4388                     0.60%   \n",
      "7                       2.48                     0.85%   \n",
      "8                     0.0579                     0.80%   \n",
      "9                     0.2177                     1.25%   \n",
      "10                    0.0095                     0.28%   \n",
      "11                    0.0602                     0.65%   \n",
      "12                   -0.0076                    -1.04%   \n",
      "13                   -0.0079                    -1.18%   \n",
      "14                      0.39                     0.36%   \n",
      "15                    0.0160                     0.23%   \n",
      "16                    0.0003                     0.00%   \n",
      "17                     0.057                     0.19%   \n",
      "18                      5.68                     0.48%   \n",
      "19                     0.140                     0.45%   \n",
      "20                    0.0041                     0.30%   \n",
      "21                     0.010                     0.02%   \n",
      "22                    0.0015                     0.04%   \n",
      "23                      45.0                     0.31%   \n",
      "24                     0.135                     0.18%   \n",
      "25                    0.0080                     0.61%   \n",
      "26                    0.1070                     2.01%   \n",
      "27                    0.0245                     0.11%   \n",
      "28                    0.0800                     0.11%   \n",
      "29                     16.55                     2.14%   \n",
      "\n",
      "                           4  \n",
      "0   全球匯率 (Currency Exchange)  \n",
      "1                         台北  \n",
      "2                      04:59  \n",
      "3                      04:59  \n",
      "4                      04:59  \n",
      "5                      04:59  \n",
      "6                      04:50  \n",
      "7                      04:59  \n",
      "8                      04:59  \n",
      "9                      04:59  \n",
      "10                     04:59  \n",
      "11                     04:59  \n",
      "12                     04:59  \n",
      "13                     04:59  \n",
      "14                     04:59  \n",
      "15                     23:23  \n",
      "16                     04:54  \n",
      "17                     04:59  \n",
      "18                     04:55  \n",
      "19                     04:56  \n",
      "20                     04:58  \n",
      "21                     03:57  \n",
      "22                     18:06  \n",
      "23                     15:57  \n",
      "24                     04:58  \n",
      "25                     04:59  \n",
      "26                     04:59  \n",
      "27                     04:59  \n",
      "28                     02:39  \n",
      "29                     04:57  \n",
      "\n",
      "元素 :  8\n",
      "                                                   0\n",
      "0  (adsbygoogle = window.adsbygoogle || []).push(...\n",
      "\n",
      "元素 :  9\n",
      "                                                   0\n",
      "0            行動網站  | 借錢救急 | Outlet  | 網站地圖  | 聯絡我們 ﻿\n",
      "1  全球股市指數 / 国际股市指数 / World Indices / Мировые инде...\n",
      "\n"
     ]
    }
   ],
   "source": [
    "import pandas as pd\n",
    "\n",
    "url = 'http://www.stockq.org/market/currency.php'\n",
    "currencys = pd.read_html(url)         # 讀取全球匯率行情表\n",
    "\n",
    "item = 0\n",
    "for currency in currencys:\n",
    "    print(\"元素 : \", item)            # 列出元素編號\n",
    "    print(currency)                   # 列出元素內容\n",
    "    print()\n",
    "    item += 1"
   ]
  },
  {
   "cell_type": "code",
   "execution_count": 4,
   "metadata": {},
   "outputs": [
    {
     "name": "stdout",
     "output_type": "stream",
     "text": [
      "         貨幣       匯率       漲跌      比例     台北\n",
      "0     歐元/美元   1.1786  -0.0087  -0.73%  04:59\n",
      "1     英鎊/美元   1.3049  -0.0095  -0.72%  04:59\n",
      "2   美元/瑞士法郎   0.9124   0.0029   0.32%  04:59\n",
      "3   美元/瑞典克朗   8.7461   0.0631   0.73%  04:59\n",
      "4    美元/俄盧布  73.7170   0.4388   0.60%  04:50\n",
      "5   美元/匈牙利幣   293.52     2.48   0.85%  04:59\n",
      "6   美元/土耳其幣   7.2911   0.0579   0.80%  04:59\n",
      "7    美元/南非幣  17.6313   0.2177   1.25%  04:59\n",
      "8   美元/以色列幣   3.4091   0.0095   0.28%  04:59\n",
      "9    美元/摩洛哥   9.2670   0.0602   0.65%  04:59\n",
      "10    澳幣/美元   0.7157  -0.0076  -1.04%  04:59\n",
      "11    紐幣/美元   0.6605  -0.0079  -1.18%  04:59\n",
      "12    美元/日圓   105.91     0.39   0.36%  04:59\n",
      "13   美元/人民幣   6.9670   0.0160   0.23%  23:23\n",
      "14    美元/港幣   7.7502   0.0003   0.00%  04:54\n",
      "15    美元/台幣   29.431    0.057   0.19%  04:59\n",
      "16    美元/韓圜  1188.68     5.68   0.48%  04:55\n",
      "17    美元/泰銖   31.230    0.140   0.45%  04:56\n",
      "18    美元/新元   1.3724   0.0041   0.30%  04:58\n",
      "19   美元/菲披索   49.070    0.010   0.02%  03:57\n",
      "20   美元/馬來幣   4.1850   0.0015   0.04%  18:06\n",
      "21   美元/印尼盾  14580.0     45.0   0.31%  15:57\n",
      "22  美元/印度盧比   75.012    0.135   0.18%  04:58\n",
      "23    美元/加幣   1.3383   0.0080   0.61%  04:59\n",
      "24   美元/巴西幣   5.4378   0.1070   2.01%  04:59\n",
      "25   美元/墨披索  22.3850   0.0245   0.11%  04:59\n",
      "26   美元/阿根廷  72.7600   0.0800   0.11%  02:39\n",
      "27    美元/智利   787.45    16.55   2.14%  04:57\n"
     ]
    }
   ],
   "source": [
    "import pandas as pd\n",
    "\n",
    "url = 'http://www.stockq.org/market/currency.php'\n",
    "currencys = pd.read_html(url)                               # 讀取全球匯率行情表\n",
    "\n",
    "currency = currencys[7]                                     # 讀取第7元素\n",
    "currency = currency.drop(currency.index[[0,1]])             # 拋棄前2 row\n",
    "currency.columns = ['貨幣', '匯率', '漲跌', '比例', '台北'] # 建立column標題\n",
    "currency.index = range(len(currency.index))                 # 建立row標題\n",
    "print(currency)"
   ]
  },
  {
   "cell_type": "code",
   "execution_count": null,
   "metadata": {},
   "outputs": [],
   "source": []
  }
 ],
 "metadata": {
  "kernelspec": {
   "display_name": "Python 3.7.4 64-bit (conda)",
   "language": "python",
   "name": "python37464bitcondaa894bb5b6bb148ddaac80467bce14611"
  },
  "language_info": {
   "codemirror_mode": {
    "name": "ipython",
    "version": 3
   },
   "file_extension": ".py",
   "mimetype": "text/x-python",
   "name": "python",
   "nbconvert_exporter": "python",
   "pygments_lexer": "ipython3",
   "version": "3.7.4"
  }
 },
 "nbformat": 4,
 "nbformat_minor": 2
}
